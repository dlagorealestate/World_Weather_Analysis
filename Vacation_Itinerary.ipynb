{
 "cells": [
  {
   "cell_type": "code",
   "execution_count": 1,
   "id": "7db4b95c",
   "metadata": {},
   "outputs": [],
   "source": [
    "import pandas as pd\n",
    "import requests\n",
    "import gmaps\n",
    "\n"
   ]
  },
  {
   "cell_type": "code",
   "execution_count": 3,
   "id": "a364a7e4",
   "metadata": {},
   "outputs": [],
   "source": [
    "# Import API key\n",
    "from configgmaps import g_key\n",
    "\n",
    "# Configure gmaps\n",
    "gmaps.configure(api_key=g_key)"
   ]
  },
  {
   "cell_type": "code",
   "execution_count": 4,
   "id": "e823845c",
   "metadata": {},
   "outputs": [],
   "source": [
    "vacation_df = pd.read_csv('Weather_Vacation.csv')"
   ]
  },
  {
   "cell_type": "code",
   "execution_count": 5,
   "id": "84b88cfc",
   "metadata": {},
   "outputs": [
    {
     "data": {
      "text/html": [
       "<div>\n",
       "<style scoped>\n",
       "    .dataframe tbody tr th:only-of-type {\n",
       "        vertical-align: middle;\n",
       "    }\n",
       "\n",
       "    .dataframe tbody tr th {\n",
       "        vertical-align: top;\n",
       "    }\n",
       "\n",
       "    .dataframe thead th {\n",
       "        text-align: right;\n",
       "    }\n",
       "</style>\n",
       "<table border=\"1\" class=\"dataframe\">\n",
       "  <thead>\n",
       "    <tr style=\"text-align: right;\">\n",
       "      <th></th>\n",
       "      <th>City_ID</th>\n",
       "      <th>City</th>\n",
       "      <th>Country</th>\n",
       "      <th>Max Temp</th>\n",
       "      <th>Lat</th>\n",
       "      <th>Lng</th>\n",
       "      <th>Current Description</th>\n",
       "      <th>Hotel Name</th>\n",
       "    </tr>\n",
       "  </thead>\n",
       "  <tbody>\n",
       "    <tr>\n",
       "      <th>0</th>\n",
       "      <td>0</td>\n",
       "      <td>san ignacio</td>\n",
       "      <td>BZ</td>\n",
       "      <td>78.80</td>\n",
       "      <td>17.1561</td>\n",
       "      <td>-89.0714</td>\n",
       "      <td>scattered clouds</td>\n",
       "      <td>Rainforest Haven Inn</td>\n",
       "    </tr>\n",
       "    <tr>\n",
       "      <th>1</th>\n",
       "      <td>2</td>\n",
       "      <td>cape town</td>\n",
       "      <td>ZA</td>\n",
       "      <td>63.00</td>\n",
       "      <td>-33.9258</td>\n",
       "      <td>18.4232</td>\n",
       "      <td>clear sky</td>\n",
       "      <td>Southern Sun Waterfront Cape Town</td>\n",
       "    </tr>\n",
       "    <tr>\n",
       "      <th>2</th>\n",
       "      <td>3</td>\n",
       "      <td>rikitea</td>\n",
       "      <td>PF</td>\n",
       "      <td>71.44</td>\n",
       "      <td>-23.1203</td>\n",
       "      <td>-134.9692</td>\n",
       "      <td>heavy intensity rain</td>\n",
       "      <td>Pension Maro'i</td>\n",
       "    </tr>\n",
       "    <tr>\n",
       "      <th>3</th>\n",
       "      <td>6</td>\n",
       "      <td>kapaa</td>\n",
       "      <td>US</td>\n",
       "      <td>78.80</td>\n",
       "      <td>22.0752</td>\n",
       "      <td>-159.3190</td>\n",
       "      <td>broken clouds</td>\n",
       "      <td>Sheraton Kauai Resort at Coconut Beach</td>\n",
       "    </tr>\n",
       "    <tr>\n",
       "      <th>4</th>\n",
       "      <td>7</td>\n",
       "      <td>saint-philippe</td>\n",
       "      <td>RE</td>\n",
       "      <td>77.00</td>\n",
       "      <td>-21.3585</td>\n",
       "      <td>55.7679</td>\n",
       "      <td>overcast clouds</td>\n",
       "      <td>Chambres d'hôte \"La Trinité\"</td>\n",
       "    </tr>\n",
       "  </tbody>\n",
       "</table>\n",
       "</div>"
      ],
      "text/plain": [
       "   City_ID            City Country  Max Temp      Lat       Lng  \\\n",
       "0        0     san ignacio      BZ     78.80  17.1561  -89.0714   \n",
       "1        2       cape town      ZA     63.00 -33.9258   18.4232   \n",
       "2        3         rikitea      PF     71.44 -23.1203 -134.9692   \n",
       "3        6           kapaa      US     78.80  22.0752 -159.3190   \n",
       "4        7  saint-philippe      RE     77.00 -21.3585   55.7679   \n",
       "\n",
       "    Current Description                              Hotel Name  \n",
       "0      scattered clouds                    Rainforest Haven Inn  \n",
       "1             clear sky       Southern Sun Waterfront Cape Town  \n",
       "2  heavy intensity rain                          Pension Maro'i  \n",
       "3         broken clouds  Sheraton Kauai Resort at Coconut Beach  \n",
       "4       overcast clouds            Chambres d'hôte \"La Trinité\"  "
      ]
     },
     "execution_count": 5,
     "metadata": {},
     "output_type": "execute_result"
    }
   ],
   "source": [
    "vacation_df.head()"
   ]
  },
  {
   "cell_type": "code",
   "execution_count": 6,
   "id": "91c62105",
   "metadata": {},
   "outputs": [],
   "source": [
    "info_box_template = \"\"\" <dl>\n",
    "<dt>City</dt><dd>{City}</dd>\n",
    "<dt>Country</dt><dd>{Country}</dd>\n",
    "<dt>Current Description</dt><dd>{Current Description} at {Max Temp}</dd> \"\"\""
   ]
  },
  {
   "cell_type": "code",
   "execution_count": 8,
   "id": "221780a9",
   "metadata": {},
   "outputs": [],
   "source": [
    "hotel_info = [info_box_template.format(**row) for index, row in vacation_df.iterrows()]\n",
    "locations = vacation_df[['Lat', 'Lng']]"
   ]
  },
  {
   "cell_type": "code",
   "execution_count": 9,
   "id": "94ba0a44",
   "metadata": {},
   "outputs": [
    {
     "data": {
      "application/vnd.jupyter.widget-view+json": {
       "model_id": "6fff605b85874dff9fce169c897eb4ad",
       "version_major": 2,
       "version_minor": 0
      },
      "text/plain": [
       "Figure(layout=FigureLayout(height='420px'))"
      ]
     },
     "metadata": {},
     "output_type": "display_data"
    }
   ],
   "source": [
    "marker_layer = gmaps.marker_layer(locations, info_box_content=hotel_info)\n",
    "fig = gmaps.figure()\n",
    "fig.add_layer(marker_layer)\n",
    "\n",
    "fig"
   ]
  },
  {
   "cell_type": "code",
   "execution_count": 10,
   "id": "76420a34",
   "metadata": {},
   "outputs": [],
   "source": [
    "vacation_start = vacation_df.loc[vacation_df['City'] == 'san ignacio']\n",
    "vacation_end = vacation_df.loc[vacation_df['City'] == 'cape town']\n",
    "vacation_stop1 = vacation_df.loc[vacation_df['City'] == 'rikitea']\n",
    "vacation_stop2 = vacation_df.loc[vacation_df['City'] == 'saint-philippe']"
   ]
  },
  {
   "cell_type": "code",
   "execution_count": 11,
   "id": "b3bc6070",
   "metadata": {},
   "outputs": [
    {
     "name": "stdout",
     "output_type": "stream",
     "text": [
      "(17.1561, -89.0714)\n",
      "(-33.9258, 18.4232)\n",
      "(-23.1203, -134.9692)\n",
      "(-21.3585, 55.7679)\n"
     ]
    }
   ],
   "source": [
    "start = vacation_start['Lat'].values[0], vacation_start['Lng'].values[0]\n",
    "end = vacation_end['Lat'].values[0], vacation_end['Lng'].values[0]\n",
    "stop1 = vacation_stop1['Lat'].values[0], vacation_stop1['Lng'].values[0]\n",
    "stop2 = vacation_stop2['Lat'].values[0], vacation_stop2['Lng'].values[0]\n",
    "\n",
    "print(start)\n",
    "print(end)\n",
    "print(stop1)\n",
    "print(stop2)"
   ]
  },
  {
   "cell_type": "code",
   "execution_count": 18,
   "id": "cf0d7b22",
   "metadata": {},
   "outputs": [
    {
     "data": {
      "application/vnd.jupyter.widget-view+json": {
       "model_id": "da5426cb248b479bad32d5cd59d695dd",
       "version_major": 2,
       "version_minor": 0
      },
      "text/plain": [
       "Figure(layout=FigureLayout(height='420px'))"
      ]
     },
     "metadata": {},
     "output_type": "display_data"
    }
   ],
   "source": [
    "fig = gmaps.figure()\n",
    "vacation_itinerary = gmaps.directions_layer(\n",
    "    start,end,waypoints=[stop1,stop2],\n",
    "    travel_mode='DRIVING'\n",
    ")\n",
    "fig.add_layer(vacation_itinerary)\n",
    "fig"
   ]
  },
  {
   "cell_type": "code",
   "execution_count": 14,
   "id": "45952b5f",
   "metadata": {},
   "outputs": [],
   "source": [
    "itinerary_df = pd.concat([vacation_start, vacation_end, vacation_stop1, vacation_stop2])"
   ]
  },
  {
   "cell_type": "code",
   "execution_count": 15,
   "id": "bb18fd29",
   "metadata": {},
   "outputs": [
    {
     "data": {
      "text/html": [
       "<div>\n",
       "<style scoped>\n",
       "    .dataframe tbody tr th:only-of-type {\n",
       "        vertical-align: middle;\n",
       "    }\n",
       "\n",
       "    .dataframe tbody tr th {\n",
       "        vertical-align: top;\n",
       "    }\n",
       "\n",
       "    .dataframe thead th {\n",
       "        text-align: right;\n",
       "    }\n",
       "</style>\n",
       "<table border=\"1\" class=\"dataframe\">\n",
       "  <thead>\n",
       "    <tr style=\"text-align: right;\">\n",
       "      <th></th>\n",
       "      <th>City_ID</th>\n",
       "      <th>City</th>\n",
       "      <th>Country</th>\n",
       "      <th>Max Temp</th>\n",
       "      <th>Lat</th>\n",
       "      <th>Lng</th>\n",
       "      <th>Current Description</th>\n",
       "      <th>Hotel Name</th>\n",
       "    </tr>\n",
       "  </thead>\n",
       "  <tbody>\n",
       "    <tr>\n",
       "      <th>0</th>\n",
       "      <td>0</td>\n",
       "      <td>san ignacio</td>\n",
       "      <td>BZ</td>\n",
       "      <td>78.80</td>\n",
       "      <td>17.1561</td>\n",
       "      <td>-89.0714</td>\n",
       "      <td>scattered clouds</td>\n",
       "      <td>Rainforest Haven Inn</td>\n",
       "    </tr>\n",
       "    <tr>\n",
       "      <th>1</th>\n",
       "      <td>2</td>\n",
       "      <td>cape town</td>\n",
       "      <td>ZA</td>\n",
       "      <td>63.00</td>\n",
       "      <td>-33.9258</td>\n",
       "      <td>18.4232</td>\n",
       "      <td>clear sky</td>\n",
       "      <td>Southern Sun Waterfront Cape Town</td>\n",
       "    </tr>\n",
       "    <tr>\n",
       "      <th>2</th>\n",
       "      <td>3</td>\n",
       "      <td>rikitea</td>\n",
       "      <td>PF</td>\n",
       "      <td>71.44</td>\n",
       "      <td>-23.1203</td>\n",
       "      <td>-134.9692</td>\n",
       "      <td>heavy intensity rain</td>\n",
       "      <td>Pension Maro'i</td>\n",
       "    </tr>\n",
       "    <tr>\n",
       "      <th>4</th>\n",
       "      <td>7</td>\n",
       "      <td>saint-philippe</td>\n",
       "      <td>RE</td>\n",
       "      <td>77.00</td>\n",
       "      <td>-21.3585</td>\n",
       "      <td>55.7679</td>\n",
       "      <td>overcast clouds</td>\n",
       "      <td>Chambres d'hôte \"La Trinité\"</td>\n",
       "    </tr>\n",
       "  </tbody>\n",
       "</table>\n",
       "</div>"
      ],
      "text/plain": [
       "   City_ID            City Country  Max Temp      Lat       Lng  \\\n",
       "0        0     san ignacio      BZ     78.80  17.1561  -89.0714   \n",
       "1        2       cape town      ZA     63.00 -33.9258   18.4232   \n",
       "2        3         rikitea      PF     71.44 -23.1203 -134.9692   \n",
       "4        7  saint-philippe      RE     77.00 -21.3585   55.7679   \n",
       "\n",
       "    Current Description                         Hotel Name  \n",
       "0      scattered clouds               Rainforest Haven Inn  \n",
       "1             clear sky  Southern Sun Waterfront Cape Town  \n",
       "2  heavy intensity rain                     Pension Maro'i  \n",
       "4       overcast clouds       Chambres d'hôte \"La Trinité\"  "
      ]
     },
     "execution_count": 15,
     "metadata": {},
     "output_type": "execute_result"
    }
   ],
   "source": [
    "itinerary_df"
   ]
  },
  {
   "cell_type": "code",
   "execution_count": 16,
   "id": "3ddf981c",
   "metadata": {},
   "outputs": [],
   "source": [
    "\n",
    "info_box_template = '''\n",
    "<dl>\n",
    "<dt>Hotel Name</dt><dd>{Hotel Name}</dd>\n",
    "<dt>City</dt><dd>{City}</dd>\n",
    "<dt>Country</dt><dd>{Country}</dd>\n",
    "<dt>Current Description</dt><dd>{Current Description} at {Max Temp}</dd>\n",
    "'''\n",
    "hotel_info = [info_box_template.format(**row) for index, row in itinerary_df.iterrows()]\n",
    "locations = itinerary_df[['Lat', 'Lng']]"
   ]
  },
  {
   "cell_type": "code",
   "execution_count": 17,
   "id": "6c70e179",
   "metadata": {},
   "outputs": [
    {
     "data": {
      "application/vnd.jupyter.widget-view+json": {
       "model_id": "9bdae3a3854445879a2bc14eacaa5051",
       "version_major": 2,
       "version_minor": 0
      },
      "text/plain": [
       "Figure(layout=FigureLayout(height='420px'))"
      ]
     },
     "metadata": {},
     "output_type": "display_data"
    }
   ],
   "source": [
    "marker_layer = gmaps.marker_layer(locations, info_box_content=hotel_info)\n",
    "fig = gmaps.figure()\n",
    "fig.add_layer(marker_layer)\n",
    "\n",
    "fig"
   ]
  },
  {
   "cell_type": "code",
   "execution_count": null,
   "id": "2a0e6499",
   "metadata": {},
   "outputs": [],
   "source": []
  }
 ],
 "metadata": {
  "kernelspec": {
   "display_name": "Python 3",
   "language": "python",
   "name": "python3"
  },
  "language_info": {
   "codemirror_mode": {
    "name": "ipython",
    "version": 3
   },
   "file_extension": ".py",
   "mimetype": "text/x-python",
   "name": "python",
   "nbconvert_exporter": "python",
   "pygments_lexer": "ipython3",
   "version": "3.8.5"
  }
 },
 "nbformat": 4,
 "nbformat_minor": 5
}
